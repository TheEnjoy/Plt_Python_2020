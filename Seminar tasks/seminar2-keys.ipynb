{
 "cells": [
  {
   "cell_type": "markdown",
   "metadata": {},
   "source": [
    "# Основы программирования в Python\n",
    "\n",
    "*Алла Тамбовцева и Светлана Жучкова, НИУ ВШЭ*\n",
    "\n",
    "## Семинар 3"
   ]
  },
  {
   "cell_type": "markdown",
   "metadata": {},
   "source": [
    "### Задача 0 (разминка)\n",
    "\n",
    "Даны два списка `a` и `b` (см. ниже).\n",
    "    \n",
    "1. Выведите на экран первый элемент списка `a`, третий элемент списка `a`, последний элемент списка `a`.\n",
    "2. Добавьте в список `b` элемент 7 (просто допишите в конец).\n",
    "3. Замените пятый элемент списка `a` на число 8.\n",
    "4. Создайте список `merged`, который включает в себя все элементы списка `a` и списка `b`.\n",
    "5. Создайте новый список `с`, который получается заменой последнего элемента списка `a` на число 100. Сам список `a` измениться не должен!"
   ]
  },
  {
   "cell_type": "code",
   "execution_count": 2,
   "metadata": {},
   "outputs": [],
   "source": [
    "a = [1, 0, 9, 12, 18, 34, 89, 91, 33, 127]\n",
    "b = [2, 8, 9, 11, 76, 25, 44]"
   ]
  },
  {
   "cell_type": "code",
   "execution_count": 3,
   "metadata": {},
   "outputs": [
    {
     "name": "stdout",
     "output_type": "stream",
     "text": [
      "Запрашиваемые элементы: 1 9 127\n",
      "Список b после добавления 7: [2, 8, 9, 11, 76, 25, 44, 7]\n",
      "Список a после замены элемента: [1, 0, 9, 12, 8, 34, 89, 91, 33, 127]\n",
      "Список merged: [1, 0, 9, 12, 8, 34, 89, 91, 33, 127, 2, 8, 9, 11, 76, 25, 44, 7]\n",
      "Список c: [1, 0, 9, 12, 8, 34, 89, 91, 33, 100]\n",
      "Проверим, изменился ли писок а: [1, 0, 9, 12, 8, 34, 89, 91, 33, 127]\n"
     ]
    }
   ],
   "source": [
    "print('Запрашиваемые элементы:', a[0], a[2], a[-1])\n",
    "b.append(7)\n",
    "print('Список b после добавления 7:', b)\n",
    "a[4] = 8\n",
    "print('Список a после замены элемента:', a)\n",
    "merged = a + b\n",
    "print('Список merged:', merged)\n",
    "c = a.copy()\n",
    "c[-1] = 100\n",
    "print('Список c:', c)\n",
    "print('Проверим, изменился ли писок а:', a)"
   ]
  },
  {
   "cell_type": "markdown",
   "metadata": {},
   "source": [
    "### Задача 1 (девочковая)\n",
    "\n",
    "Есть список имен:"
   ]
  },
  {
   "cell_type": "code",
   "execution_count": 5,
   "metadata": {},
   "outputs": [],
   "source": [
    "girls = [\"Иветта\", \"Виолетта\", \"Кассандра\", \"Вирджиния\", \"Амелия\", \"Розамунда\", \"Янина\", \"Беатриса\"]"
   ]
  },
  {
   "cell_type": "markdown",
   "metadata": {},
   "source": [
    "Используя список `girls`, выведите на экран следующие списки:\n",
    "\n",
    "    [\"Виолетта\", \"Кассандра\", \"Вирджиния\", \"Амелия\"]\n",
    "    [\"Вирджиния\", \"Амелия\", \"Розамунда\", \"Янина\", \"Беатриса\"]\n",
    "    [\"Иветта\", \"Виолетта\", \"Вирджиния\", \"Амелия\"]\n",
    "    [\"Кассандра\", \"Амелия\", \"Розамунда\"]"
   ]
  },
  {
   "cell_type": "code",
   "execution_count": 6,
   "metadata": {},
   "outputs": [
    {
     "name": "stdout",
     "output_type": "stream",
     "text": [
      "['Виолетта', 'Кассандра', 'Вирджиния', 'Амелия']\n",
      "['Вирджиния', 'Амелия', 'Розамунда', 'Янина', 'Беатриса']\n",
      "['Иветта', 'Виолетта', 'Вирджиния', 'Амелия']\n",
      "['Кассандра', 'Амелия', 'Розамунда']\n"
     ]
    }
   ],
   "source": [
    "print(girls[1:5])\n",
    "print(girls[3:])\n",
    "print(girls[:2] + girls[3:5])\n",
    "print([girls[2]] + girls[4:6])"
   ]
  },
  {
   "cell_type": "markdown",
   "metadata": {},
   "source": [
    "### Задача 2 (поэлементная) \n",
    "\n",
    "Дан список L. Выведите на экран (последовательно, с новой строчки): \n",
    "\n",
    "* все элементы списка L\n",
    "* логарифмированные значения элементов списка L"
   ]
  },
  {
   "cell_type": "code",
   "execution_count": 7,
   "metadata": {},
   "outputs": [],
   "source": [
    "L = [12, 3, 8, 125, 10, 98, 54, 199]"
   ]
  },
  {
   "cell_type": "code",
   "execution_count": 8,
   "metadata": {},
   "outputs": [
    {
     "name": "stdout",
     "output_type": "stream",
     "text": [
      "12\n",
      "3\n",
      "8\n",
      "125\n",
      "10\n",
      "98\n",
      "54\n",
      "199\n"
     ]
    }
   ],
   "source": [
    "for i in L:\n",
    "    print(i)"
   ]
  },
  {
   "cell_type": "code",
   "execution_count": 9,
   "metadata": {},
   "outputs": [
    {
     "name": "stdout",
     "output_type": "stream",
     "text": [
      "2.4849066497880004\n",
      "1.0986122886681098\n",
      "2.0794415416798357\n",
      "4.8283137373023015\n",
      "2.302585092994046\n",
      "4.584967478670572\n",
      "3.9889840465642745\n",
      "5.293304824724492\n"
     ]
    }
   ],
   "source": [
    "from math import log\n",
    "for i in L:\n",
    "    print(log(i))"
   ]
  },
  {
   "cell_type": "markdown",
   "metadata": {},
   "source": [
    "Замените пятый элемент списка L на 0. Проделайте те же операции, что и раньше. Объясните, почему получаются такие результаты."
   ]
  },
  {
   "cell_type": "code",
   "execution_count": 10,
   "metadata": {},
   "outputs": [
    {
     "name": "stdout",
     "output_type": "stream",
     "text": [
      "2.4849066497880004\n",
      "1.0986122886681098\n",
      "2.0794415416798357\n",
      "4.8283137373023015\n"
     ]
    },
    {
     "ename": "ValueError",
     "evalue": "math domain error",
     "output_type": "error",
     "traceback": [
      "\u001b[0;31m---------------------------------------------------------------------------\u001b[0m",
      "\u001b[0;31mValueError\u001b[0m                                Traceback (most recent call last)",
      "\u001b[0;32m<ipython-input-10-c2ff05d1fd52>\u001b[0m in \u001b[0;36m<module>\u001b[0;34m()\u001b[0m\n\u001b[1;32m      1\u001b[0m \u001b[0mL\u001b[0m\u001b[0;34m[\u001b[0m\u001b[0;36m4\u001b[0m\u001b[0;34m]\u001b[0m \u001b[0;34m=\u001b[0m \u001b[0;36m0\u001b[0m\u001b[0;34m\u001b[0m\u001b[0m\n\u001b[1;32m      2\u001b[0m \u001b[0;32mfor\u001b[0m \u001b[0mi\u001b[0m \u001b[0;32min\u001b[0m \u001b[0mL\u001b[0m\u001b[0;34m:\u001b[0m\u001b[0;34m\u001b[0m\u001b[0m\n\u001b[0;32m----> 3\u001b[0;31m     \u001b[0mprint\u001b[0m\u001b[0;34m(\u001b[0m\u001b[0mlog\u001b[0m\u001b[0;34m(\u001b[0m\u001b[0mi\u001b[0m\u001b[0;34m)\u001b[0m\u001b[0;34m)\u001b[0m\u001b[0;34m\u001b[0m\u001b[0m\n\u001b[0m\u001b[1;32m      4\u001b[0m \u001b[0;34m\u001b[0m\u001b[0m\n\u001b[1;32m      5\u001b[0m \u001b[0;31m# ошибка возникает из-за невозможности рассчитать логарифм нуля\u001b[0m\u001b[0;34m\u001b[0m\u001b[0;34m\u001b[0m\u001b[0m\n",
      "\u001b[0;31mValueError\u001b[0m: math domain error"
     ]
    }
   ],
   "source": [
    "L[4] = 0\n",
    "for i in L:\n",
    "    print(log(i))\n",
    "\n",
    "# ошибка возникает из-за невозможности рассчитать логарифм нуля"
   ]
  },
  {
   "cell_type": "markdown",
   "metadata": {},
   "source": [
    "### Задача 3 (демографическая)\n",
    "\n",
    "В списке `age` сохранены значения возраста респондентов: \n",
    "\n",
    "    age = [24, 35, 42, 27, 45, 48, 33]\n",
    "    \n",
    "Создайте список age2, в котором будут храниться значения возраста, возведённые в квадрат."
   ]
  },
  {
   "cell_type": "code",
   "execution_count": 11,
   "metadata": {},
   "outputs": [
    {
     "name": "stdout",
     "output_type": "stream",
     "text": [
      "[576, 1225, 1764, 729, 2025, 2304, 1089]\n"
     ]
    }
   ],
   "source": [
    "age = [24, 35, 42, 27, 45, 48, 33]\n",
    "age_sq = []\n",
    "for elem in age:\n",
    "    age_sq.append(elem**2)\n",
    "print(age_sq)"
   ]
  },
  {
   "cell_type": "markdown",
   "metadata": {},
   "source": [
    "### Задача 4 (чётная лёгкая)\n",
    "\n",
    "Пусть дан список чисел `numbers`. Найдите в нём все чётные числа и поместите их в отдельный список `even_numbers`.  "
   ]
  },
  {
   "cell_type": "code",
   "execution_count": 12,
   "metadata": {},
   "outputs": [
    {
     "name": "stdout",
     "output_type": "stream",
     "text": [
      "[6, 8, 10, 0, 12, 26]\n"
     ]
    }
   ],
   "source": [
    "numbers = [1, 5, 6, 8, 10, 21, 25, 1, 0, -9, 9, 12, 26]\n",
    "even_numbers = []\n",
    "for elem in numbers:\n",
    "    if elem%2==0:\n",
    "        even_numbers.append(elem)\n",
    "print(even_numbers)"
   ]
  },
  {
   "cell_type": "markdown",
   "metadata": {},
   "source": [
    "### Задача 4 (чётная средняя)\n",
    "\n",
    "Пусть дан список чисел `numbers`. Найдите в нём все чётные числа, поместите их в отдельный список `even_numbers` и удалите из исходного списка `numbers` эти числа.  "
   ]
  },
  {
   "cell_type": "code",
   "execution_count": 13,
   "metadata": {},
   "outputs": [
    {
     "name": "stdout",
     "output_type": "stream",
     "text": [
      "[6, 8, 10, 0, 12, 26]\n",
      "[1, 5, 21, 25, 1, -9, 9]\n"
     ]
    }
   ],
   "source": [
    "numbers = [1, 5, 6, 8, 10, 21, 25, 1, 0, -9, 9, 12, 26]\n",
    "\n",
    "even_numbers = []\n",
    "for elem in numbers:\n",
    "    if elem%2==0:\n",
    "        even_numbers.append(elem)\n",
    "        \n",
    "for even_numb in even_numbers:\n",
    "    numbers.remove(even_numb)\n",
    "\n",
    "print(even_numbers)\n",
    "print(numbers)"
   ]
  },
  {
   "cell_type": "markdown",
   "metadata": {},
   "source": [
    "### Задача 4 (чётная сложная)\n",
    "\n",
    "Пусть дан список чисел `numbers`. Преобразуйте этот список: перед каждым чётным числом в этом списке поставьте то же число, уменьшенное на единицу. "
   ]
  },
  {
   "cell_type": "code",
   "execution_count": 14,
   "metadata": {},
   "outputs": [
    {
     "name": "stdout",
     "output_type": "stream",
     "text": [
      "[1, 5, 5, 6, 7, 8, 9, 10, 21, 25, 1, -1, 0, -9, 9, 11, 12, 25, 26]\n"
     ]
    }
   ],
   "source": [
    "numbers = [1, 5, 6, 8, 10, 21, 25, 1, 0, -9, 9, 12, 26]\n",
    "modified_numbers = []\n",
    "for elem in numbers:\n",
    "    if elem%2==0:\n",
    "        modified_numbers.append(elem-1)\n",
    "        modified_numbers.append(elem)\n",
    "    else:\n",
    "        modified_numbers.append(elem)\n",
    "print(modified_numbers)"
   ]
  },
  {
   "cell_type": "markdown",
   "metadata": {},
   "source": [
    "### Задача 5 (мыслительная)\n",
    "\n",
    "Объясните, что делает следующий код и почему он выдаёт такие результаты:"
   ]
  },
  {
   "cell_type": "code",
   "execution_count": 5,
   "metadata": {},
   "outputs": [
    {
     "name": "stdout",
     "output_type": "stream",
     "text": [
      "5\n",
      "3\n",
      "5\n",
      "7\n"
     ]
    }
   ],
   "source": [
    "lst = [1,2,3,4]\n",
    "\n",
    "for i in range(len(lst)):\n",
    "    a = lst[i] + lst[i-1]\n",
    "    print(a)\n",
    "    \n",
    "# в цикле каждый элемент списка складывается с предыдущим"
   ]
  }
 ],
 "metadata": {
  "kernelspec": {
   "display_name": "Python 3",
   "language": "python",
   "name": "python3"
  },
  "language_info": {
   "codemirror_mode": {
    "name": "ipython",
    "version": 3
   },
   "file_extension": ".py",
   "mimetype": "text/x-python",
   "name": "python",
   "nbconvert_exporter": "python",
   "pygments_lexer": "ipython3",
   "version": "3.6.4"
  }
 },
 "nbformat": 4,
 "nbformat_minor": 2
}
