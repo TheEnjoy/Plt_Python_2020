{
 "cells": [
  {
   "cell_type": "markdown",
   "metadata": {},
   "source": [
    "# Основы программирования в Python\n",
    "\n",
    "*Алла Тамбовцева, Светлана Жучкова, НИУ ВШЭ*\n",
    "\n",
    "## Семинар 5"
   ]
  },
  {
   "cell_type": "markdown",
   "metadata": {},
   "source": [
    "### Задача 1\n",
    "\n",
    "Дан словарь с названиями разных рептилий:"
   ]
  },
  {
   "cell_type": "code",
   "execution_count": 1,
   "metadata": {},
   "outputs": [],
   "source": [
    "rept = {\"python\" : \"питон\", \"anaconda\" : \"анаконда\", \"tortoize\" : \"черепаха\" }"
   ]
  },
  {
   "cell_type": "markdown",
   "metadata": {},
   "source": [
    "* Добавьте в словарь пару \"snake\" - \" змея\".\n",
    "* Исправьте ключ \"tortoize\" на правильный \"tortoise\".\n",
    "* Выведите на экран сообщения вида\n",
    "\n",
    "    питон по-английски будет python;\n",
    "\n",
    "для всех слов в словаре (сообщение для каждого слова ‒ с новой строчки)."
   ]
  },
  {
   "cell_type": "markdown",
   "metadata": {},
   "source": [
    "*Решение*"
   ]
  },
  {
   "cell_type": "code",
   "execution_count": 6,
   "metadata": {},
   "outputs": [
    {
     "name": "stdout",
     "output_type": "stream",
     "text": [
      "Так выглядит словарь после первого пункта: {'python': 'питон', 'anaconda': 'анаконда', 'tortoize': 'черепаха', 'snake': 'змея'} \n",
      "\n",
      "Так выглядит словарь после второго пункта: {'python': 'питон', 'anaconda': 'анаконда', 'snake': 'змея', 'tortoise': 'черепаха'} \n",
      "\n",
      "питон по-английски будет python\n",
      "анаконда по-английски будет anaconda\n",
      "змея по-английски будет snake\n",
      "черепаха по-английски будет tortoise\n"
     ]
    }
   ],
   "source": [
    "rept = {\"python\" : \"питон\", \"anaconda\" : \"анаконда\", \"tortoize\" : \"черепаха\" }\n",
    "\n",
    "#пункт 1\n",
    "rept['snake'] = 'змея'\n",
    "print('Так выглядит словарь после первого пункта:', rept, '\\n')\n",
    "\n",
    "#пункт 2\n",
    "del rept['tortoize']\n",
    "rept['tortoise'] = 'черепаха'\n",
    "print('Так выглядит словарь после второго пункта:', rept, '\\n')\n",
    "\n",
    "#пункт 2 - альтернативный вариант\n",
    "#rept['tortoise'] = rept.pop('tortoize')\n",
    "#print('Так выглядит словарь после второго пункта:', rept, '\\n')\n",
    "\n",
    "#пункт 3 - может быть множество вариантов решения\n",
    "for animal_en, animal_rus in rept.items():\n",
    "    print(animal_rus, 'по-английски будет', animal_en)\n",
    "    \n",
    "#пунтк 3 - один из альтернативных вариантов\n",
    "#for animal in rept:\n",
    "#    print(rept[animal], 'по-английски будет', animal)"
   ]
  },
  {
   "cell_type": "markdown",
   "metadata": {},
   "source": [
    "### Задача 2\n",
    "\n",
    "Дан список студентов."
   ]
  },
  {
   "cell_type": "code",
   "execution_count": 2,
   "metadata": {},
   "outputs": [],
   "source": [
    "students = [\"Вася\", \"Маша\", \"Петя\", \"Дима\", \"Марина\", \"Люба\", \"Коля\", \"Ваня\"]"
   ]
  },
  {
   "cell_type": "markdown",
   "metadata": {},
   "source": [
    "Оценки студентов за контрольную работу сохранены в словаре *grades*:"
   ]
  },
  {
   "cell_type": "code",
   "execution_count": 3,
   "metadata": {},
   "outputs": [],
   "source": [
    "grades = {\"Вася\" : 4, \"Петя\" : 9, \"Марина\" : 8, \"Люба\" : 4, \"Коля\" : 5, \"Ваня\": 10}"
   ]
  },
  {
   "cell_type": "markdown",
   "metadata": {},
   "source": [
    "* Напишите программу, которая выводит на экран имя студента из списка *students* и его оценку. Если оценки студента из списка *students* нет, то на экран должно выводиться имя студента и сообщение \"Контрольную работу не писал(а)\".\n",
    "\n",
    "* Напишите программу, которая выводит на экран имена студентов, которые получили отличные оценки (8 и выше).\n",
    "\n",
    "* Напишите программу, которая сохраняет имена студентов, получивших хорошие и отличные оценки, в список *good*, а получивших удовлетворительные и плохие оценки ‒ в список *bad*."
   ]
  },
  {
   "cell_type": "markdown",
   "metadata": {},
   "source": [
    "*Решение*"
   ]
  },
  {
   "cell_type": "code",
   "execution_count": 11,
   "metadata": {},
   "outputs": [
    {
     "name": "stdout",
     "output_type": "stream",
     "text": [
      "Вася: 4\n",
      "Маша: Контрольную работу не писал(а)\n",
      "Петя: 9\n",
      "Дима: Контрольную работу не писал(а)\n",
      "Марина: 8\n",
      "Люба: 4\n",
      "Коля: 5\n",
      "Ваня: 10\n",
      "Получили отличные оценки:\n",
      "Петя\n",
      "Марина\n",
      "Ваня\n",
      "Список good: ['Петя', 'Марина', 'Ваня'] \n",
      "Список bad: ['Вася', 'Люба', 'Коля']\n"
     ]
    }
   ],
   "source": [
    "students = [\"Вася\", \"Маша\", \"Петя\", \"Дима\", \"Марина\", \"Люба\", \"Коля\", \"Ваня\"]\n",
    "grades = {\"Вася\" : 4, \"Петя\" : 9, \"Марина\" : 8, \"Люба\" : 4, \"Коля\" : 5, \"Ваня\": 10}\n",
    "\n",
    "#пункт 1\n",
    "for student in students:\n",
    "    print(student + ':', grades.get(student, 'Контрольную работу не писал(а)'))\n",
    "    \n",
    "#пункт 2 - может быть множество вариантов решения\n",
    "print('Получили отличные оценки:')\n",
    "for student in grades:\n",
    "    if grades[student] >= 8:\n",
    "        print(student)\n",
    "        \n",
    "#пункт 3 \n",
    "good = []\n",
    "bad = []\n",
    "\n",
    "for student in grades:\n",
    "    if grades[student] >= 6:\n",
    "        good.append(student)\n",
    "    else:\n",
    "        bad.append(student)\n",
    "print('Список good:', good, '\\nСписок bad:', bad)"
   ]
  },
  {
   "cell_type": "markdown",
   "metadata": {},
   "source": [
    "### Задача 3\n",
    "\n",
    "В списке *cnt* хранятся названия стран, а в списке *fh* ‒ значения индекса Freedom House  для этих стран. Создайте словарь, используя в качестве ключей названия стран, а в качестве значений ‒  значения индекса."
   ]
  },
  {
   "cell_type": "code",
   "execution_count": 4,
   "metadata": {},
   "outputs": [],
   "source": [
    "cnt = [\"Andorra\", \"Belarus\", \"Denmark\", \"Kenya\", \"Jamaica\", \"Romania\"]\n",
    "fh = [1.0, 6.0, 1.0, 4.0, 2.5, 2.0]"
   ]
  },
  {
   "cell_type": "markdown",
   "metadata": {},
   "source": [
    "*Решение*"
   ]
  },
  {
   "cell_type": "code",
   "execution_count": 12,
   "metadata": {},
   "outputs": [
    {
     "name": "stdout",
     "output_type": "stream",
     "text": [
      "{'Andorra': 1.0, 'Belarus': 6.0, 'Denmark': 1.0, 'Kenya': 4.0, 'Jamaica': 2.5, 'Romania': 2.0}\n"
     ]
    }
   ],
   "source": [
    "cnt = [\"Andorra\", \"Belarus\", \"Denmark\", \"Kenya\", \"Jamaica\", \"Romania\"]\n",
    "fh = [1.0, 6.0, 1.0, 4.0, 2.5, 2.0]\n",
    "\n",
    "fh_by_country = dict(zip(cnt, fh))\n",
    "print(fh_by_country)"
   ]
  },
  {
   "cell_type": "markdown",
   "metadata": {},
   "source": [
    "### Задача 4\n",
    "\n",
    "Дан список, состоящий из пар чисел:"
   ]
  },
  {
   "cell_type": "code",
   "execution_count": null,
   "metadata": {},
   "outputs": [],
   "source": [
    "pairs = [(2, 4), (4, 6), (0, 1), (5, 2), (9, 1), (3, 8)]"
   ]
  },
  {
   "cell_type": "markdown",
   "metadata": {},
   "source": [
    "Создайте словарь *calc*, где ключами являются пары чисел, а значениями ‒ их произведение (произведение тоже должно считаться в Python, не в уме)."
   ]
  },
  {
   "cell_type": "markdown",
   "metadata": {},
   "source": [
    "*Решение*"
   ]
  },
  {
   "cell_type": "code",
   "execution_count": 14,
   "metadata": {},
   "outputs": [
    {
     "name": "stdout",
     "output_type": "stream",
     "text": [
      "{(2, 4): 8, (4, 6): 24, (0, 1): 0, (5, 2): 10, (9, 1): 9, (3, 8): 24}\n"
     ]
    }
   ],
   "source": [
    "pairs = [(2, 4), (4, 6), (0, 1), (5, 2), (9, 1), (3, 8)]\n",
    "mult_pairs = [pair[0]*pair[1] for pair in pairs]\n",
    "\n",
    "calc = dict(zip(pairs, mult_pairs))\n",
    "print(calc)"
   ]
  },
  {
   "cell_type": "markdown",
   "metadata": {},
   "source": [
    "### Задача 5"
   ]
  },
  {
   "cell_type": "markdown",
   "metadata": {},
   "source": [
    "Вам нужно написать программу, которая помогает преподавателю автоматически проверять и оценивать ответ, данный студентом на вопрос со множественным выбором (в тесте). Программа принимает на вход две строки: строку с правильными ответами (`correct`) и строку с ответами, которые дал студент (`student_answer`). Считайте, что возможные варианты ответов закодированы буквами а, б, в, г, д, е, ж, з. Выбранные варианты вводятся в одну строку через запятую и их порядок не важен. Оценка за ответ рассчитывается по формуле:\n",
    "\n",
    "$$grade = \\frac{len(A\\cap B)}{len(A\\cup B)}$$,\n",
    "\n",
    "где A - множество вариантов, выбранных студентом (ещё раз: он может вводить их в любом порядке!),\n",
    "\n",
    "B - множество правильных ответов.\n",
    "\n",
    "Если прочитать по-человечески эту формулу: считаем, сколько правильных вариантов выбрал студент, и делим на (общее количество выбранных вариантов + количество верных вариантов, которые студент не выбрал).\n",
    "\n",
    "В результате программа должна выдавать балл за ответ студента от 0 до 1 в формате `float` с округлением до двух знаков после запятой.\n",
    "\n",
    "Пример входных данных (*студент выбрал 3 варианта из 4 правильных*):\n",
    "```python\n",
    "correct = 'а б в г'\n",
    "student_answer = 'б а в'\n",
    "```\n",
    "\n",
    "Пример выходных данных:\n",
    "```python\n",
    "0.75\n",
    "```\n",
    "<hr>\n",
    "\n",
    "Пример входных данных (*студент выбрал 3 варианта из 4 правильных и 1 неправильный*):\n",
    "```python\n",
    "correct = 'а б в г'\n",
    "student_answer = 'a в б д'\n",
    "```\n",
    "\n",
    "Пример выходных данных:\n",
    "```python\n",
    "0.6\n",
    "```\n",
    "<hr>\n",
    "\n",
    "Пример входных данных (*студент выбрал 3 НЕправильных ответа и НЕ выбрал 4 правильных*):\n",
    "\n",
    "```python\n",
    "correct = 'а б в г'\n",
    "student_answer = 'ж д е'\n",
    "```\n",
    "\n",
    "Пример выходных данных:\n",
    "```python\n",
    "0\n",
    "```"
   ]
  },
  {
   "cell_type": "markdown",
   "metadata": {},
   "source": [
    "*Решение*"
   ]
  },
  {
   "cell_type": "code",
   "execution_count": 1,
   "metadata": {},
   "outputs": [
    {
     "name": "stdout",
     "output_type": "stream",
     "text": [
      "Правильный ответ: а б г в\n",
      "Ответ студента: а в б д\n",
      "0.6\n"
     ]
    }
   ],
   "source": [
    "correct = set(input('Правильный ответ: ').split())\n",
    "student_answer = set(input('Ответ студента: ').split())\n",
    "grade = round(len(correct.intersection(student_answer)) / len(correct.union(student_answer)), 2)\n",
    "print(grade)"
   ]
  }
 ],
 "metadata": {
  "kernelspec": {
   "display_name": "Python 3",
   "language": "python",
   "name": "python3"
  },
  "language_info": {
   "codemirror_mode": {
    "name": "ipython",
    "version": 3
   },
   "file_extension": ".py",
   "mimetype": "text/x-python",
   "name": "python",
   "nbconvert_exporter": "python",
   "pygments_lexer": "ipython3",
   "version": "3.6.4"
  }
 },
 "nbformat": 4,
 "nbformat_minor": 2
}
