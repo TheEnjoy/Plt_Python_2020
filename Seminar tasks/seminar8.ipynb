{
 "cells": [
  {
   "cell_type": "markdown",
   "metadata": {},
   "source": [
    "# Основы программирования в Python\n",
    "\n",
    "*Светлана Жучкова, НИУ ВШЭ*\n",
    "\n",
    "## Семинар 8"
   ]
  },
  {
   "cell_type": "markdown",
   "metadata": {},
   "source": [
    "В этом семинаре вам предстоит потренироваться в использовании пакетов `selenium` и `bs4` для извлечения информации с веб-страницы. \n",
    "Основная задача следующая: собрать данные с платформы [Coursera](https://www.coursera.org/) о степенях (Degrees) и профессиональных сертификатах (Professional Certificates) по Python, которые можно получить онлайн на этой платформе, то есть получить таблицу, в которой будут представлены \n",
    "- название программы\n",
    "- ссылка на программу\n",
    "- организатор программы\n",
    "- тип программы (Degree / Professional Certificate)\n",
    "- краткое описание программы\n",
    "\n",
    "Для вашего удобства задание разбито на мини-шаги."
   ]
  },
  {
   "cell_type": "markdown",
   "metadata": {},
   "source": [
    "**Шаг 1.** Импортируйте `webdriver` из пакета `selenium` под псевдонимом `wb`. Если пакет не установлен - предварительно установите его."
   ]
  },
  {
   "cell_type": "code",
   "execution_count": null,
   "metadata": {},
   "outputs": [],
   "source": []
  },
  {
   "cell_type": "markdown",
   "metadata": {},
   "source": [
    "**Шаг 2.** Откройте браузер с помощью веб-драйвера."
   ]
  },
  {
   "cell_type": "code",
   "execution_count": null,
   "metadata": {},
   "outputs": [],
   "source": []
  },
  {
   "cell_type": "markdown",
   "metadata": {},
   "source": [
    "**Шаг 3.** Отправьте get-запрос из этого браузера на страницу `https://www.coursera.org/`."
   ]
  },
  {
   "cell_type": "code",
   "execution_count": null,
   "metadata": {},
   "outputs": [],
   "source": []
  },
  {
   "cell_type": "markdown",
   "metadata": {},
   "source": [
    "**Шаг 4.** Найдите (**с помощью CSS-селектора**) в html-коде страницы элемент, отвечающий за строку поиска - What do you want to learn? - и передайте в него значение `python`."
   ]
  },
  {
   "cell_type": "code",
   "execution_count": null,
   "metadata": {},
   "outputs": [],
   "source": []
  },
  {
   "cell_type": "markdown",
   "metadata": {},
   "source": [
    "**Шаг 5.** Найдите (**с помощью CSS-селектора**) в html-коде страницы элемент, отвечающий за кнопку поиска - лупу - и кликните на неё. Будьте осторожны, эта кнопка почему-то очень чувствительна к любым нажатиям."
   ]
  },
  {
   "cell_type": "code",
   "execution_count": null,
   "metadata": {},
   "outputs": [],
   "source": []
  },
  {
   "cell_type": "markdown",
   "metadata": {},
   "source": [
    "**Шаг 6.** Найдите (**с помощью CSS-селектора**) в html-коде страницы элемент, отвечающий за кнопку перехода к вкладке Degrees & Certificates и кликните на неё."
   ]
  },
  {
   "cell_type": "code",
   "execution_count": null,
   "metadata": {},
   "outputs": [],
   "source": []
  },
  {
   "cell_type": "markdown",
   "metadata": {},
   "source": [
    "**Шаг 7.** Выведите на экран неструктурированный html-код страницы в её текущем состоянии."
   ]
  },
  {
   "cell_type": "code",
   "execution_count": null,
   "metadata": {},
   "outputs": [],
   "source": []
  },
  {
   "cell_type": "markdown",
   "metadata": {},
   "source": [
    "**Шаг 8.** Структурируйте этот код, превратив его в прекрасный суп, и выведите на экран. Кстати, чтобы код отображался ещё лучше, можно при выводе использовать метод `.prettify()`, т.е. `print(soup.prettify())`."
   ]
  },
  {
   "cell_type": "code",
   "execution_count": null,
   "metadata": {},
   "outputs": [],
   "source": []
  },
  {
   "cell_type": "markdown",
   "metadata": {},
   "source": [
    "**Шаг 9.** С помощью инструментов BeautifulSoup-a найдите в коде страницы однотипные теги, в каждом из которых содержится полная информация об одной из программ. Сохраните список из этих тегов в переменную `programs`."
   ]
  },
  {
   "cell_type": "code",
   "execution_count": null,
   "metadata": {},
   "outputs": [],
   "source": []
  },
  {
   "cell_type": "markdown",
   "metadata": {},
   "source": [
    "**Шаг 10.** Возьмите первый тег из полученного списка `programs`, сохраните его в переменную `course`. Выведите на экран с помощью `print(course.prettify())` - в этом теге должна содержаться информация о степени под названием Master of Bussiness Administration."
   ]
  },
  {
   "cell_type": "code",
   "execution_count": null,
   "metadata": {},
   "outputs": [],
   "source": []
  },
  {
   "cell_type": "markdown",
   "metadata": {},
   "source": [
    "**Шаг 11.** Извлеките из тега в переменной `course` название программы, поместите в переменную `title`."
   ]
  },
  {
   "cell_type": "code",
   "execution_count": null,
   "metadata": {},
   "outputs": [],
   "source": []
  },
  {
   "cell_type": "markdown",
   "metadata": {},
   "source": [
    "**Шаг 12.** Извлеките из тега в переменной `course` ссылку на программу, достройте её до абсолютной ссылки (прибавьте к адресу основной адрес сайта) и поместите в переменную `link`."
   ]
  },
  {
   "cell_type": "code",
   "execution_count": null,
   "metadata": {},
   "outputs": [],
   "source": []
  },
  {
   "cell_type": "markdown",
   "metadata": {},
   "source": [
    "**Шаг 13.** Извлеките из тега в переменной `course` организатора программы, поместите в переменную `organizer`."
   ]
  },
  {
   "cell_type": "code",
   "execution_count": null,
   "metadata": {},
   "outputs": [],
   "source": []
  },
  {
   "cell_type": "markdown",
   "metadata": {},
   "source": [
    "**Шаг 14.** Извлеките из тега в переменной `course` тип программы (Degree / Professional Certificate), поместите в переменную `program_type`."
   ]
  },
  {
   "cell_type": "code",
   "execution_count": null,
   "metadata": {},
   "outputs": [],
   "source": []
  },
  {
   "cell_type": "markdown",
   "metadata": {},
   "source": [
    "**Шаг 15.** Наконец, извлеките из тега в переменной `course` краткое описание программы, поместите в переменную `description`."
   ]
  },
  {
   "cell_type": "code",
   "execution_count": null,
   "metadata": {},
   "outputs": [],
   "source": []
  },
  {
   "cell_type": "markdown",
   "metadata": {},
   "source": [
    "**Шаг 16.** Поместите переменные `title`, `link`, `organizer`, `program_type`, `description` в список `info_per_course`."
   ]
  },
  {
   "cell_type": "code",
   "execution_count": null,
   "metadata": {},
   "outputs": [],
   "source": []
  },
  {
   "cell_type": "markdown",
   "metadata": {},
   "source": [
    "**Шаг 17.** Осуществите шаги 11-16 для всех программ на страничке с выдачей поиска, пройдясь циклом `for` по всем тегам из переменной `programs` и собирая информацию по ним в список списков `info_per_page`. Лайфхак - если назовёте переменную в цикле как `course` (`for course in programs`), то менять не придётся практически ничего ;)"
   ]
  },
  {
   "cell_type": "code",
   "execution_count": null,
   "metadata": {},
   "outputs": [],
   "source": []
  },
  {
   "cell_type": "markdown",
   "metadata": {},
   "source": [
    "**Шаг 18.** Оформите полученный список списков в датафрейм с понятными названиями колонок."
   ]
  },
  {
   "cell_type": "code",
   "execution_count": null,
   "metadata": {},
   "outputs": [],
   "source": []
  },
  {
   "cell_type": "markdown",
   "metadata": {},
   "source": [
    "**Шаг 19.** Экспортируйте получившийся датафрейм в excel-файл."
   ]
  },
  {
   "cell_type": "code",
   "execution_count": null,
   "metadata": {},
   "outputs": [],
   "source": []
  },
  {
   "cell_type": "markdown",
   "metadata": {},
   "source": [
    "**Шаг 20.** Расслабьтесь и отдохните - Вы хорошо потрудились."
   ]
  }
 ],
 "metadata": {
  "kernelspec": {
   "display_name": "Python 3",
   "language": "python",
   "name": "python3"
  },
  "language_info": {
   "codemirror_mode": {
    "name": "ipython",
    "version": 3
   },
   "file_extension": ".py",
   "mimetype": "text/x-python",
   "name": "python",
   "nbconvert_exporter": "python",
   "pygments_lexer": "ipython3",
   "version": "3.6.4"
  }
 },
 "nbformat": 4,
 "nbformat_minor": 2
}
