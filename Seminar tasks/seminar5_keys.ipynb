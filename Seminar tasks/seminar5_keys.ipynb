{
 "cells": [
  {
   "cell_type": "markdown",
   "metadata": {},
   "source": [
    "# Основы программирования в Python\n",
    "\n",
    "*Алла Тамбовцева и Светлана Жучкова, НИУ ВШЭ*\n",
    "\n",
    "## Семинар 5"
   ]
  },
  {
   "cell_type": "markdown",
   "metadata": {},
   "source": [
    "### Задача 1\n",
    "Напишите функцию `square()`, которая принимает на вход число и:\n",
    "\n",
    "* возвращает его квадрат;\n",
    "* выводит на экран сообщение вида \"Квадрат числа равен: n\" и ничего не возвращает;\n",
    "* выводит на экран сообщение вида \"Квадрат числа равен: n\" и возвращает квадрат числа;\n",
    "* выводит на экран сообщение вида \"Квадрат числа равен: n\" или же \"Неверный формат входных данных\", если на вход функции подана строка, а не число."
   ]
  },
  {
   "cell_type": "code",
   "execution_count": 1,
   "metadata": {},
   "outputs": [
    {
     "data": {
      "text/plain": [
       "16"
      ]
     },
     "execution_count": 1,
     "metadata": {},
     "output_type": "execute_result"
    }
   ],
   "source": [
    "#пункт 1\n",
    "def square(x):\n",
    "    return x**2\n",
    "\n",
    "square(4)"
   ]
  },
  {
   "cell_type": "code",
   "execution_count": 2,
   "metadata": {},
   "outputs": [
    {
     "name": "stdout",
     "output_type": "stream",
     "text": [
      "Квадрат числа равен: 16\n"
     ]
    }
   ],
   "source": [
    "#пункт 2\n",
    "def square(x):\n",
    "    print(f'Квадрат числа равен: {x**2}')\n",
    "\n",
    "square(4)"
   ]
  },
  {
   "cell_type": "code",
   "execution_count": 3,
   "metadata": {},
   "outputs": [
    {
     "name": "stdout",
     "output_type": "stream",
     "text": [
      "Квадрат числа равен: 16\n"
     ]
    },
    {
     "data": {
      "text/plain": [
       "16"
      ]
     },
     "execution_count": 3,
     "metadata": {},
     "output_type": "execute_result"
    }
   ],
   "source": [
    "#пункт 3\n",
    "def square(x):\n",
    "    print(f'Квадрат числа равен: {x**2}')\n",
    "    return x**2\n",
    "\n",
    "square(4)"
   ]
  },
  {
   "cell_type": "code",
   "execution_count": 4,
   "metadata": {},
   "outputs": [
    {
     "name": "stdout",
     "output_type": "stream",
     "text": [
      "Неверный формат входных данных\n"
     ]
    }
   ],
   "source": [
    "#пункт 4\n",
    "def square(x):\n",
    "    try:\n",
    "        print(f'Квадрат числа равен: {x**2}')\n",
    "    except:\n",
    "        print('Неверный формат входных данных')\n",
    "\n",
    "square('4')"
   ]
  },
  {
   "cell_type": "markdown",
   "metadata": {},
   "source": [
    "### Задача 2\n",
    "Напишите функцию `nums()`, которая принимает на вход целое число, а возвращает список из двух элементов: целое число, предшествующее принятому на вход, и число, следующее за ним, в виде списка.\n",
    "\n",
    "**Пример:**\n",
    "\n",
    "*Входные данные:*\n",
    "\n",
    "    7\n",
    "\n",
    "*Выходные данные:*\n",
    "\n",
    "    [6, 8]"
   ]
  },
  {
   "cell_type": "code",
   "execution_count": 5,
   "metadata": {},
   "outputs": [
    {
     "data": {
      "text/plain": [
       "[4, 6]"
      ]
     },
     "execution_count": 5,
     "metadata": {},
     "output_type": "execute_result"
    }
   ],
   "source": [
    "def nums(x):\n",
    "    return [x-1, x+1]\n",
    "\n",
    "nums(5)"
   ]
  },
  {
   "cell_type": "markdown",
   "metadata": {},
   "source": [
    "### Задача 3\n",
    "Напишите функцию `str_lower()`, которая принимает на вход строку (набор слов через пробел) и возвращает список её элементов (слов) в нижнем регистре.  \n",
    "Добавьте к функции аргумент, с помощью которого можно выбрать, в каком виде возвращать данные - в виде строки или в виде списка (сделайте так, чтобы по умолчанию данные возвращались в виде списка).\n",
    "\n",
    "**Пример:**\n",
    "\n",
    "*Входные данные:*\n",
    "\n",
    "    \"В лесу родилась ёлочка В лесу она росла\"\n",
    "\n",
    "*Выходные данные:*\n",
    "\n",
    "    ['в', 'лесу', 'родилась', 'ёлочка', 'в', 'лесу', 'она', 'росла']"
   ]
  },
  {
   "cell_type": "code",
   "execution_count": 6,
   "metadata": {},
   "outputs": [
    {
     "data": {
      "text/plain": [
       "['важно', 'научиться', 'различать', 'списки', 'и', 'строки']"
      ]
     },
     "execution_count": 6,
     "metadata": {},
     "output_type": "execute_result"
    }
   ],
   "source": [
    "#первая часть\n",
    "def str_lower(text):\n",
    "    return text.lower().split()\n",
    "\n",
    "str_lower('Важно научиться различать списки и строки')"
   ]
  },
  {
   "cell_type": "code",
   "execution_count": 7,
   "metadata": {},
   "outputs": [
    {
     "data": {
      "text/plain": [
       "'важно научиться различать списки и строки'"
      ]
     },
     "execution_count": 7,
     "metadata": {},
     "output_type": "execute_result"
    }
   ],
   "source": [
    "#вторая часть\n",
    "def str_lower(text, split=True):\n",
    "    if split:\n",
    "        return text.lower().split()\n",
    "    else:\n",
    "        return text.lower()\n",
    "\n",
    "str_lower('Важно научиться различать списки и строки', False)"
   ]
  },
  {
   "cell_type": "markdown",
   "metadata": {},
   "source": [
    "### Задача 4\n",
    "Напишите функцию `my_log()`, которая принимает на вход список чисел, и возвращает список их натуральных логарифмов. Если число меньше или равно 0, на его месте в возвращаемом списке должно быть None. Попробуйте решить эту задачу двумя способами: \n",
    "1. используя цикл *for* и конструкцию *try-except*,\n",
    "2. используя *list comprehension* с условиями внутри\n",
    "\n",
    "**Пример:**\n",
    "\n",
    "*Входные данные:*\n",
    "\n",
    "    [1, 3, 2.5, -1, 9, 0, 2.71]\n",
    "\n",
    "*Выходные данные:*\n",
    "\n",
    "    [0.0,\n",
    "     1.0986122886681098,\n",
    "     0.9162907318741551,\n",
    "     None,\n",
    "     2.1972245773362196,\n",
    "     None,\n",
    "     0.9969486348916096]"
   ]
  },
  {
   "cell_type": "code",
   "execution_count": 9,
   "metadata": {},
   "outputs": [
    {
     "data": {
      "text/plain": [
       "[0.0,\n",
       " 1.0986122886681098,\n",
       " 0.9162907318741551,\n",
       " None,\n",
       " 2.1972245773362196,\n",
       " None,\n",
       " 0.9969486348916096]"
      ]
     },
     "execution_count": 9,
     "metadata": {},
     "output_type": "execute_result"
    }
   ],
   "source": [
    "import math\n",
    "\n",
    "#первый вариант - for и try-except\n",
    "def my_log(numbers):\n",
    "    log_numbers = []\n",
    "    for number in numbers:\n",
    "        try:\n",
    "            log_numbers.append(math.log(number))\n",
    "        except:\n",
    "            log_numbers.append(None)\n",
    "    return log_numbers\n",
    "            \n",
    "my_log([1, 3, 2.5, -1, 9, 0, 2.71])"
   ]
  },
  {
   "cell_type": "code",
   "execution_count": 10,
   "metadata": {},
   "outputs": [
    {
     "data": {
      "text/plain": [
       "[0.0,\n",
       " 1.0986122886681098,\n",
       " 0.9162907318741551,\n",
       " None,\n",
       " 2.1972245773362196,\n",
       " None,\n",
       " 0.9969486348916096]"
      ]
     },
     "execution_count": 10,
     "metadata": {},
     "output_type": "execute_result"
    }
   ],
   "source": [
    "import math\n",
    "\n",
    "#второй вариант - list comprehension и if-else\n",
    "def my_log(numbers):\n",
    "    log_numbers = [math.log(number) if number > 0 else None for number in numbers]\n",
    "    return log_numbers\n",
    "            \n",
    "my_log([1, 3, 2.5, -1, 9, 0, 2.71])"
   ]
  },
  {
   "cell_type": "markdown",
   "metadata": {},
   "source": [
    "### Задача 5\n",
    "Напишите функцию, которая принимает на вход два списка (имена людей и их возраст) и делает следующее:\n",
    "\n",
    "* если в списках одинаковое количество элементов, то возвращает словарь с парами имя-возраст;\n",
    "\n",
    "* если в списках разное количество элементов, то функция выводит на экран сообщение \"Списки имеют разную длину\" и возвращает пустой словарь.\n",
    "\n",
    "**Пример:**\n",
    "\n",
    "*Входные данные:*\n",
    "\n",
    "    [\"Ann\", \"Tim\", \"Sam\"]\n",
    "    [12, 23, 17]\n",
    "\n",
    "*Выходные данные:*\n",
    "\n",
    "    {\"Ann\": 12, \"Tim\": 23, \"Sam\": 17}\n",
    "\n",
    "*Входные данные:*\n",
    "\n",
    "    [\"Ann\", \"Tim\", \"Sam\"]\n",
    "    [12, 23, 17, 45]\n",
    "\n",
    "*Выходные данные:*\n",
    "    \n",
    "    Списки имеют разную длину\n",
    "    {}"
   ]
  },
  {
   "cell_type": "code",
   "execution_count": 13,
   "metadata": {},
   "outputs": [
    {
     "data": {
      "text/plain": [
       "{'Ann': 12, 'Sam': 17, 'Tim': 23}"
      ]
     },
     "execution_count": 13,
     "metadata": {},
     "output_type": "execute_result"
    }
   ],
   "source": [
    "def combine(lst_1, lst_2):\n",
    "    if len(lst_1)==len(lst_2):\n",
    "        return dict(zip(lst_1, lst_2))\n",
    "    else:\n",
    "        print('Списки имеют разную длину')\n",
    "        return {}\n",
    "    \n",
    "combine([\"Ann\", \"Tim\", \"Sam\"], [12, 23, 17])"
   ]
  },
  {
   "cell_type": "code",
   "execution_count": 14,
   "metadata": {},
   "outputs": [
    {
     "name": "stdout",
     "output_type": "stream",
     "text": [
      "Списки имеют разную длину\n"
     ]
    },
    {
     "data": {
      "text/plain": [
       "{}"
      ]
     },
     "execution_count": 14,
     "metadata": {},
     "output_type": "execute_result"
    }
   ],
   "source": [
    "combine([\"Ann\", \"Tim\", \"Sam\"], [12, 23, 17, 99])"
   ]
  },
  {
   "cell_type": "markdown",
   "metadata": {},
   "source": [
    "### Задача 6\n",
    "\n",
    "Напишите функцию `all_sort()`, которая принимает на вход перечень целых чисел через запятую (не список, а просто сколько угодно значений через запятую) и возвращает список этих значений, отсортированный по возрастанию.  \n",
    "Добавьте в свою функцию следующее: если по ошибке наряду с числовыми значениями вводится строка, функция должна выводить на экран фразу: \"Введён неверный формат данных\".\n",
    "\n",
    "**Пример:**\n",
    "\n",
    "*Входные данные:*\n",
    "\n",
    "    7, 6, 1, 3, 8, 0, -2\n",
    "\n",
    "*Выходные данные:*\n",
    "\n",
    "    [-2, 0, 1, 3, 6, 7, 8]"
   ]
  },
  {
   "cell_type": "code",
   "execution_count": 16,
   "metadata": {},
   "outputs": [
    {
     "data": {
      "text/plain": [
       "[0, 1, 2, 3, 3, 4]"
      ]
     },
     "execution_count": 16,
     "metadata": {},
     "output_type": "execute_result"
    }
   ],
   "source": [
    "def all_sort(*args):\n",
    "    try:\n",
    "        return sorted(list(args))\n",
    "    except:\n",
    "        print('Введён неверный формат данных')\n",
    "\n",
    "all_sort(1, 3, 4, 2, 3, 0)"
   ]
  },
  {
   "cell_type": "code",
   "execution_count": 17,
   "metadata": {},
   "outputs": [
    {
     "name": "stdout",
     "output_type": "stream",
     "text": [
      "Введён неверный формат данных\n"
     ]
    }
   ],
   "source": [
    "all_sort(1, 'да', 4, 2, 3, 0)"
   ]
  }
 ],
 "metadata": {
  "kernelspec": {
   "display_name": "Python 3",
   "language": "python",
   "name": "python3"
  },
  "language_info": {
   "codemirror_mode": {
    "name": "ipython",
    "version": 3
   },
   "file_extension": ".py",
   "mimetype": "text/x-python",
   "name": "python",
   "nbconvert_exporter": "python",
   "pygments_lexer": "ipython3",
   "version": "3.6.4"
  }
 },
 "nbformat": 4,
 "nbformat_minor": 2
}
